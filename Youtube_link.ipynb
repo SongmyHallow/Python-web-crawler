{
 "cells": [
  {
   "cell_type": "code",
   "execution_count": 6,
   "metadata": {
    "ExecuteTime": {
     "end_time": "2019-03-29T20:23:31.241701Z",
     "start_time": "2019-03-29T20:23:30.660688Z"
    }
   },
   "outputs": [
    {
     "name": "stdout",
     "output_type": "stream",
     "text": [
      "{'User-agent': '123', 'Accept-Encoding': 'gzip, deflate', 'Accept': '*/*', 'Connection': 'keep-alive'}\n"
     ]
    }
   ],
   "source": [
    "import requests\n",
    "\n",
    "# get: 接受一个url，返回一个HTTP response对象\n",
    "r = requests.get(\"http://www.google.com\")\n",
    "# print(r.text)\n",
    "\n",
    "# 自定义头文件\n",
    "hd = {'User-agent':'123'}\n",
    "r = requests.get('http://www.baidu.com', headers=hd)\n",
    "print(r.request.headers)\n"
   ]
  },
  {
   "cell_type": "code",
   "execution_count": 123,
   "metadata": {
    "ExecuteTime": {
     "end_time": "2019-03-30T18:15:48.332693Z",
     "start_time": "2019-03-30T18:15:47.992123Z"
    }
   },
   "outputs": [
    {
     "name": "stdout",
     "output_type": "stream",
     "text": [
      "200\n",
      "{'Cache-Control': 'private, no-cache, no-store, proxy-revalidate, no-transform', 'Connection': 'Keep-Alive', 'Content-Encoding': 'gzip', 'Content-Type': 'text/html', 'Date': 'Sat, 30 Mar 2019 18:15:48 GMT', 'Last-Modified': 'Mon, 23 Jan 2017 13:28:12 GMT', 'Pragma': 'no-cache', 'Server': 'bfe/1.0.8.18', 'Set-Cookie': 'BDORZ=27315; max-age=86400; domain=.baidu.com; path=/', 'Transfer-Encoding': 'chunked'}\n",
      "ISO-8859-1\n",
      "utf-8\n",
      "b'<!DOCTYPE html>\\r\\n<!--STATUS OK--><html> <head><meta http-equiv=content-type content=text/html;charset=utf-8><meta http-equiv=X-UA-Compatible content=IE=Edge><meta content=always name=referrer><link rel=stylesheet type=text/css href=http://s1.bdstatic.com/r/www/cache/bdorz/baidu.min.css><title>\\xe7\\x99\\xbe\\xe5\\xba\\xa6\\xe4\\xb8\\x80\\xe4\\xb8\\x8b\\xef\\xbc\\x8c\\xe4\\xbd\\xa0\\xe5\\xb0\\xb1\\xe7\\x9f\\xa5\\xe9\\x81\\x93</title></head> <body link=#0000cc> <div id=wrapper> <div id=head> <div class=head_wrapper> <div class=s_form> <div class=s_form_wrapper> <div id=lg> <img hidefocus=true src=//www.baidu.com/img/bd_logo1.png width=270 height=129> </div> <form id=form name=f action=//www.baidu.com/s class=fm> <input type=hidden name=bdorz_come value=1> <input type=hidden name=ie value=utf-8> <input type=hidden name=f value=8> <input type=hidden name=rsv_bp value=1> <input type=hidden name=rsv_idx value=1> <input type=hidden name=tn value=baidu><span class=\"bg s_ipt_wr\"><input id=kw name=wd class=s_ipt value maxlength=255 autocomplete=off autofocus></span><span class=\"bg s_btn_wr\"><input type=submit id=su value=\\xe7\\x99\\xbe\\xe5\\xba\\xa6\\xe4\\xb8\\x80\\xe4\\xb8\\x8b class=\"bg s_btn\"></span> </form> </div> </div> <div id=u1> <a href=http://news.baidu.com name=tj_trnews class=mnav>\\xe6\\x96\\xb0\\xe9\\x97\\xbb</a> <a href=http://www.hao123.com name=tj_trhao123 class=mnav>hao123</a> <a href=http://map.baidu.com name=tj_trmap class=mnav>\\xe5\\x9c\\xb0\\xe5\\x9b\\xbe</a> <a href=http://v.baidu.com name=tj_trvideo class=mnav>\\xe8\\xa7\\x86\\xe9\\xa2\\x91</a> <a href=http://tieba.baidu.com name=tj_trtieba class=mnav>\\xe8\\xb4\\xb4\\xe5\\x90\\xa7</a> <noscript> <a href=http://www.baidu.com/bdorz/login.gif?login&amp;tpl=mn&amp;u=http%3A%2F%2Fwww.baidu.com%2f%3fbdorz_come%3d1 name=tj_login class=lb>\\xe7\\x99\\xbb\\xe5\\xbd\\x95</a> </noscript> <script>document.write(\\'<a href=\"http://www.baidu.com/bdorz/login.gif?login&tpl=mn&u=\\'+ encodeURIComponent(window.location.href+ (window.location.search === \"\" ? \"?\" : \"&\")+ \"bdorz_come=1\")+ \\'\" name=\"tj_login\" class=\"lb\">\\xe7\\x99\\xbb\\xe5\\xbd\\x95</a>\\');</script> <a href=//www.baidu.com/more/ name=tj_briicon class=bri style=\"display: block;\">\\xe6\\x9b\\xb4\\xe5\\xa4\\x9a\\xe4\\xba\\xa7\\xe5\\x93\\x81</a> </div> </div> </div> <div id=ftCon> <div id=ftConw> <p id=lh> <a href=http://home.baidu.com>\\xe5\\x85\\xb3\\xe4\\xba\\x8e\\xe7\\x99\\xbe\\xe5\\xba\\xa6</a> <a href=http://ir.baidu.com>About Baidu</a> </p> <p id=cp>&copy;2017&nbsp;Baidu&nbsp;<a href=http://www.baidu.com/duty/>\\xe4\\xbd\\xbf\\xe7\\x94\\xa8\\xe7\\x99\\xbe\\xe5\\xba\\xa6\\xe5\\x89\\x8d\\xe5\\xbf\\x85\\xe8\\xaf\\xbb</a>&nbsp; <a href=http://jianyi.baidu.com/ class=cp-feedback>\\xe6\\x84\\x8f\\xe8\\xa7\\x81\\xe5\\x8f\\x8d\\xe9\\xa6\\x88</a>&nbsp;\\xe4\\xba\\xacICP\\xe8\\xaf\\x81030173\\xe5\\x8f\\xb7&nbsp; <img src=//www.baidu.com/img/gs.gif> </p> </div> </div> </div> </body> </html>\\r\\n'\n"
     ]
    }
   ],
   "source": [
    "r = requests.get(\"http://www.baidu.com\")\n",
    "\n",
    "'''\n",
    "Response(self)\n",
    "\n",
    "The :class:Response <Response> object, which contains a server's response to an HTTP request.\n",
    "\n",
    "'''\n",
    "#HTTP请求的返回状态，比如，200表示成功，404表示失败\n",
    "print (r.status_code)\n",
    "#HTTP请求中的headers\n",
    "print (r.headers)\n",
    "#从header中猜测的响应的内容编码方式 \n",
    "print (r.encoding)\n",
    "#从内容中分析的编码方式（慢）\n",
    "print (r.apparent_encoding)\n",
    "#响应内容的二进制形式\n",
    "print (r.content)"
   ]
  },
  {
   "cell_type": "code",
   "execution_count": 9,
   "metadata": {
    "ExecuteTime": {
     "end_time": "2019-03-29T20:34:29.866451Z",
     "start_time": "2019-03-29T20:34:29.863481Z"
    }
   },
   "outputs": [],
   "source": [
    "html_doc = \"\"\"\n",
    "<html><head><title>The Dormouse's story</title></head>\n",
    "<body>\n",
    "<p class=\"title\"><b>The Dormouse's story</b></p>\n",
    "\n",
    "<p class=\"story\">Once upon a time there were three little sisters; and their names were\n",
    "<a href=\"http://example.com/elsie\" class=\"sister\" id=\"link1\">Elsie</a>,\n",
    "<a href=\"http://example.com/lacie\" class=\"sister\" id=\"link2\">Lacie</a> and\n",
    "<a href=\"http://example.com/tillie\" class=\"sister\" id=\"link3\">Tillie</a>;\n",
    "and they lived at the bottom of a well.</p>\n",
    "\n",
    "<p class=\"story\">...</p>\n",
    "\"\"\""
   ]
  },
  {
   "cell_type": "code",
   "execution_count": 19,
   "metadata": {
    "ExecuteTime": {
     "end_time": "2019-03-29T20:39:19.795441Z",
     "start_time": "2019-03-29T20:39:19.790412Z"
    }
   },
   "outputs": [
    {
     "name": "stdout",
     "output_type": "stream",
     "text": [
      "http://example.com/elsie\n",
      "http://example.com/lacie\n",
      "http://example.com/tillie\n",
      "\n",
      "The Dormouse's story\n",
      "\n",
      "The Dormouse's story\n",
      "Once upon a time there were three little sisters; and their names were\n",
      "Elsie,\n",
      "Lacie and\n",
      "Tillie;\n",
      "and they lived at the bottom of a well.\n",
      "...\n",
      "\n"
     ]
    }
   ],
   "source": [
    "from bs4 import BeautifulSoup\n",
    "soup = BeautifulSoup(html_doc,'html.parser')\n",
    "# print(soup.prettify())\n",
    "soup.title.string\n",
    "soup.find_all('a')\n",
    "soup.find(id='link3')\n",
    "\n",
    "for link in soup.findAll('a'):\n",
    "    print(link.get('href'))\n",
    "    \n",
    "print(soup.get_text())"
   ]
  },
  {
   "cell_type": "code",
   "execution_count": 112,
   "metadata": {
    "ExecuteTime": {
     "end_time": "2019-03-30T17:20:44.952570Z",
     "start_time": "2019-03-30T17:20:43.224250Z"
    },
    "scrolled": true
   },
   "outputs": [
    {
     "name": "stdout",
     "output_type": "stream",
     "text": [
      "www.youtube.com/watch?v=hNCmb-4oXJA\n"
     ]
    }
   ],
   "source": [
    "import re\n",
    "import requests\n",
    "from bs4 import BeautifulSoup\n",
    "\n",
    "# 得到输入特定搜索结果后的\n",
    "string = \"Us\" + \"+official+trailer\";\n",
    "url = \"https://www.youtube.com/results?search_query=\" + string\n",
    "\n",
    "html = urlopen(url)\n",
    "bsObj = BeautifulSoup(html, 'html.parser')\n",
    "\n",
    "soup = bsObj.find_all('a')\n",
    "for tag in soup:\n",
    "    t1 = tag.get('href')\n",
    "    m = re.match(r'(.*)watch(.*)',t1,re.M|re.I)\n",
    "    if m:\n",
    "#         print(m.group())\n",
    "        print(\"www.youtube.com\"+m.group())\n",
    "        break\n"
   ]
  },
  {
   "cell_type": "code",
   "execution_count": 133,
   "metadata": {
    "ExecuteTime": {
     "end_time": "2019-03-30T19:25:04.852128Z",
     "start_time": "2019-03-30T19:15:33.762396Z"
    }
   },
   "outputs": [
    {
     "name": "stdout",
     "output_type": "stream",
     "text": [
      "www.youtube.com/watch?v=6hB3S9bIaco\n",
      "www.youtube.com/watch?v=5DO-nDW43Ik\n",
      "www.youtube.com/watch?v=9O1Iy9od7-A\n",
      "www.youtube.com/watch?v=TQfATDZY5Y4\n",
      "www.youtube.com/watch?v=_13J_9B5jEk\n",
      "www.youtube.com/watch?v=gG22XNhtnoY\n",
      "www.youtube.com/watch?v=r5X-hFf6Bwo\n",
      "www.youtube.com/watch?v=s7EdQ4FqbhY\n",
      "www.youtube.com/watch?v=WCN5JJY_wiA\n",
      "www.youtube.com/watch?v=qtRKdVHc-cE\n",
      "www.youtube.com/watch?v=V75dMMIW2B4\n",
      "www.youtube.comhttps://www.googleadservices.com/pagead/aclk?sa=L&ai=C-UZgbMCfXJ7rJYXIhwTE642wDJ_yotpV6u2Sr_IIwI23ARABIABgyZ6njNCk9A-CARdjYS1wdWItNjIxOTgxMTc0NzA0OTM3MaABq--2zAOoAwSqBOQBT9AuWXTX3flew29L0FsrbtiqaDAgoHyQ_EInb2U2wbGFsRDBKYYC7dwMRhUFqTaQj-YtRzVGIWIqByyHzDyG4Saz79jf6zq_GgGrskB8eAlGOF3S_mCOlR0TKINZYT1PFHYJ7FYZCTT5nCT6sj9sp0SdXLUihl-rYO21NyDW8HPm4Y2Lg1O7nzq18tHsYdYSVk8OxIaOjofI6BNlYKd8QBE-b8Iyu3hZPvoqpuU63asGh52nW6J1lA-8eZEMTvFqV4um0v1_7UagMPMG2eO1Gwpr3kxJXfEgKUPe3OOIh1gdN-H-kgUMCBIwwLu3-ILi9sV4oAYagAe5y_yTAZAHBKgHqNIbqAfZyxuoB8_MG6gH6dQbqAe11BuoB6zVG6gHjM0bqAfVzhuoB4HGG6gHmM4bqAerxRuoB97OG6gHv9UbkggLZUl2YkVDOE4zY0HSCAUIgEEQAbEJl9f4ySPCLHLICRe4E-gBsBQDwBUB&num=1&cid=CAASFeRor72MY_sacvOge0sYWH-zL00SHA&sig=AOD64_3c2CEz6KUKrHrLTCpC76zE4E0Mmg&adurl=http://www.youtube.com/watch%3Fv%3DeIvbEC8N3cA&ctype=21&video_id=eIvbEC8N3cA&client=ca-pub-6219811747049371\n",
      "www.youtube.com/watch?v=JNwNXF9Y6kY\n",
      "www.youtube.com/watch?v=YoHD9XEInc0\n",
      "www.youtube.com/watch?v=LbfMDwc4azU\n",
      "www.youtube.com/watch?v=OXrcDonY-B8\n",
      "www.youtube.com/watch?v=qo5jJpHtI1Y\n",
      "www.youtube.com/watch?v=vKQi3bBA1y8\n",
      "www.youtube.com/watch?v=bBfgNpSQm3I\n",
      "www.youtube.com/watch?v=znmZoVkCjpI\n",
      "www.youtube.com/watch?v=dcUOO4Itgmw\n",
      "www.youtube.com/watch?v=vZ734NWnAHA\n",
      "www.youtube.com/watch?v=W6Mm8Sbe__o\n",
      "www.youtube.com/watch?v=ewe4lg8zTYA\n",
      "www.youtube.com/watch?v=pAYEQP8gx3w\n",
      "www.youtube.com/watch?v=ByXuk9QqQkk\n",
      "www.youtube.com/watch?v=RYID71hYHzg\n",
      "www.youtube.com/watch?v=oiXdPolca5w\n",
      "www.youtube.com/watch?v=jawVxq1Iyl0\n",
      "www.youtube.com/watch?v=Ki4haFrqSrw\n",
      "www.youtube.com/watch?v=2LqzF5WauAw\n",
      "www.youtube.com/watch?v=Wz719b9QUqY\n",
      "www.youtube.com/watch?v=XfQYHqsiN5g\n",
      "www.youtube.com/watch?v=4zY1OLF31Wc\n",
      "www.youtube.com/watch?v=BkL9l7qovsE\n",
      "www.youtube.com/watch?v=Yw-Av9BpC-w\n",
      "www.youtube.com/watch?v=BFwGqLa_oAo\n",
      "www.youtube.com/watch?v=GLeDdzGUTq0\n",
      "www.youtube.com/watch?v=34WIbmXkewU\n",
      "www.youtube.com/watch?v=iojhqm0JTW4\n",
      "www.youtube.com/watch?v=qvsgGtivCgs\n",
      "www.youtube.com/watch?v=-W8CegO_Ixw\n",
      "www.youtube.com/watch?v=7d_jQycdQGo\n",
      "www.youtube.com/watch?v=m01YktiEZCw\n",
      "www.youtube.com/watch?v=4CbLXeGSDxg\n",
      "www.youtube.comhttps://www.googleadservices.com/pagead/aclk?sa=L&ai=CuELzwcCfXMbyDoaFrcUP04u80AyEkqj1VaGA8ZeKCcCNtwEQASAAYMmep4zQpPQPggEXY2EtcHViLTYyMTk4MTE3NDcwNDkzNzGoAwSqBPIBT9AeFqX2jtb_EmO_CjqXQA9BMB2IfU3HkE1PPN77RC6boOhfO-yny0xYiIYnnwodMJnwPPXlD99FTqltXZ8z8Omp3s3y0LAlAaqyNizd6m1uUgZjHEDpIvl7GIlY9YwrAQXyOG6Td9wdsSGzM_EUP5qnN8vWZMNsgfrWiV65mWG9pA4Gm5Jj_yeV-vkKNGuM9srwZWTs85dIRP5g6eeR9yLsAVKzNJlYbhDXV8nInwFvbqwn0OwzMToN97wLpbsF7A7MhQSESlDImbO_8TrZ0RKMUUO2q5HKIuGm2o8MoVLB53wlRdZgCE7FeMyPXsTnF-mSBQwIEjDR9Nem38qF5EagBhqAB5ruxH2QBwSoB6jSG6gH2csbqAfPzBuoB-nUG6gHtdQbqAes1RuoB4zNG6gH1c4bqAeBxhuoB5jOG6gHq8UbqAfezhuoB7_VG5IIC1JzZ1dWZlRWLWxF0ggFCIBBEAGxCTZMJ6mG4LY7yAkXuBPoAbAUA8AVAQ&num=1&cid=CAASFeRou5etQC_tPbxGD3P9uC8449d5KQ&sig=AOD64_0M5HrZoUqH1VumgCNGbuvxCAGcFA&adurl=https://www.youtube.com/watch%3Fv%3DRsgWVfTV-lE&ctype=21&video_id=RsgWVfTV-lE&client=ca-pub-6219811747049371\n",
      "www.youtube.com/watch?v=XkkzKHCx154\n",
      "www.youtube.com/watch?v=owK1qxDselE\n",
      "www.youtube.com/watch?v=ijXruSzfGEc\n",
      "www.youtube.com/watch?v=FTjG-Aux_yQ\n",
      "www.youtube.com/watch?v=0vS0E9bBSL0\n",
      "www.youtube.com/watch?v=LjLamj-b0I8\n",
      "www.youtube.com/watch?v=4vPeTSRd580\n",
      "www.youtube.com/watch?v=C2-GX0Tltgw\n",
      "www.youtube.com/watch?v=4sfJxdytYn4\n",
      "www.youtube.com/watch?v=USv1hJTlbhg\n",
      "www.youtube.com/watch?v=n3_iLOp6IhM\n",
      "www.youtube.com/watch?v=98NaJ8ss4sY\n",
      "www.youtube.com/watch?v=nmDA60X-f_A\n",
      "www.youtube.comhttps://www.googleadservices.com/pagead/aclk?sa=L&ai=CxKeH4MCfXOnQG5HE3wHX1piQCYSSqPVVyYXxl4oJwI23ARABIABgyZ6njNCk9A-CARdjYS1wdWItNjIxOTgxMTc0NzA0OTM3MagDBKoE7QFP0PhyjSmTD1dge56bKFhuAgJV2wDdlPvHpC7L5Hre9ayvhsMOZpezuwuxwbZCZwLvZr6ysvb2vCCOH07ua0FuN2fbobf2wWtY5iarF9QvLd6gJ3tmV1NW7sgJYhbPgfy6dcgORO6BOXTspLUGaGn-a8Z4JoysyQ2RtfZuYzBvhoiEk-qjUJN6o2oRh6h3T115h2X26xUgR3ThLn7GzSlaNjGGzmMtC4pVO0EOIKyEegdttqb_1UJrOnrLlkRbT41yPJ3Vp4Z7So4NQXn8bun-yFwUNDHPvaQbvng0zYTIcS1mv46FtJ9O4EcaHE2SBQwIEjDR9Nem38qF5EagBhqAB5ruxH2QBwSoB6jSG6gH2csbqAfPzBuoB-DPG6gH6dQbqAe11BuoB6zVG6gHjM0bqAfVzhuoB4HGG6gHmM4bqAerxRuoB97OG6gHv9UbkggLUnNnV1ZmVFYtbEXSCAUIgEEQAbEJNkwnqYbgtjvICRe4E-gBsBQDwBUB&num=1&cid=CAASFeRo-71UfofgxE5BSAhfZIvYqltiEQ&sig=AOD64_2QPG82T5YD4rirY4A1wFU49AqUYw&adurl=https://www.youtube.com/watch%3Fv%3DRsgWVfTV-lE&ctype=21&video_id=RsgWVfTV-lE&client=ca-pub-6219811747049371\n",
      "www.youtube.com/watch?v=S014oGZiSdI\n",
      "www.youtube.com/watch?v=eUdM9vrCbow\n",
      "www.youtube.com/watch?v=alIq_wG9FNk\n",
      "www.youtube.com/watch?v=4OiMOHRDs14\n",
      "www.youtube.com/watch?v=GMlJfiA2u7Y\n",
      "www.youtube.com/watch?v=2HkjrJ6IK5E\n",
      "www.youtube.com/watch?v=GokKUqLcvD8\n",
      "www.youtube.com/watch?v=XKSQmYUaIyE\n",
      "www.youtube.com/watch?v=3ycmmJ6rxA8\n",
      "www.youtube.com/watch?v=LcpCRyNo8T8\n",
      "www.youtube.com/watch?v=jjudmcSxzpc\n",
      "www.youtube.com/watch?v=7pzKyeIex2Y\n",
      "www.youtube.com/watch?v=8dxh3lwdOFw\n",
      "www.youtube.com/watch?v=1NJO0jxBtMo\n",
      "www.youtube.com/watch?v=Z5jvQwwHQNY\n",
      "www.youtube.com/watch?v=VZmbbx2p4yI\n",
      "www.youtube.com/watch?v=vayksn4Y93A\n",
      "www.youtube.com/watch?v=5UfA_aKBGMc\n",
      "www.youtube.com/watch?v=o4-URMnBOPU\n",
      "www.youtube.com/watch?v=nsVproWjN6c\n",
      "www.youtube.com/watch?v=r7kWQj9FCGY\n",
      "www.youtube.com/watch?v=0nU7dC9bIDg\n",
      "www.youtube.com/watch?v=x_7YlGv9u1g\n",
      "www.youtube.com/watch?v=K0eDlFX9GMc\n",
      "www.youtube.com/watch?v=tn_2Ie_jtX8\n",
      "www.youtube.com/watch?v=oR_e9y-bka0\n",
      "www.youtube.com/watch?v=yE-f1alkq9I\n",
      "www.youtube.com/watch?v=zmr1iSG3RTA\n",
      "www.youtube.comhttps://www.googleadservices.com/pagead/aclk?sa=L&ai=CV3IkKMGfXJ2tEI67j-8PnY-ymAemlZLvVbPu-bilCcCNtwEQASAAYMmep4zQpPQPggEXY2EtcHViLTYyMTk4MTE3NDcwNDkzNzGoAwSqBOABT9DkHfyIr4iANQ2_W-V13ysm7s8VZfNaP4WjyZ47-Tzedw_2wmHT9qwgF7ynmCoHAB8IbOsj7HzopIiXAjST7E15Z5CdbmVXzkYZMJ_gjJSo_kb_49WyQWlRhJKoKz35Buqzp_7MQvnCBpoKGzZZZ2xwWzTwJolUWFaUWu74aTsT5mbEH6MIIFthnZQCBgaMuo3YBugCxZovpvgdNVsrwNxNhLZD8WwYU-DXDVizFQEkTtKpdgC6udVi9-EqvbwoUz0nSXrRfjKpdAPzc9ZnyiJgvIVwz8xqPyOmHAKKfM2SBQwIEjCBkL-ryezQ3BSgBhqAB6_pxH2QBwSoB6jSG6gH2csbqAfPzBuoB-nUG6gHtdQbqAes1RuoB4zNG6gH1c4bqAeBxhuoB5jOG6gHq8UbqAfezhuoB7_VG5IIC0ZMbERaSlZ2eUFF0ggFCIBBEAGxCRsPV5JAKdyxyAkXuBPoAbAUA8AVAQ&num=1&cid=CAASFeRo4wqGJ2C3AGmsfKGTnLnHq8_ZLA&sig=AOD64_0god_742Dgy26VXkEVay8WUluVlg&adurl=https://www.youtube.com/watch%3Fv%3DFLlDZJVvyAE&ctype=21&video_id=FLlDZJVvyAE&client=ca-pub-6219811747049371\n",
      "www.youtube.com/watch?v=SPRzm8ibDQ8\n",
      "www.youtube.com/watch?v=HUECWi5pX7o\n",
      "www.youtube.com/watch?v=yKrrAa2o9Eg\n",
      "www.youtube.com/watch?v=Fp7Ao6Zk_Mc\n",
      "www.youtube.com/watch?v=sLpMx8_TYOo\n",
      "www.youtube.com/watch?v=KnrRy6kSFF0\n",
      "www.youtube.com/watch?v=Ks_MbPPkhmA\n",
      "www.youtube.com/watch?v=H2P4xo9kmPM\n",
      "www.youtube.com/watch?v=KR7loA_oziY\n",
      "www.youtube.com/watch?v=6x-flHyP9I0\n",
      "www.youtube.com/watch?v=PaZVjZEFkRs\n",
      "www.youtube.com/watch?v=LN2hBOIXhBs\n",
      "www.youtube.comhttps://www.googleadservices.com/pagead/aclk?sa=L&ai=CPJ-dSMGfXKbDMvCBrcUP-6WAoAemlZLvVbPu-bilCcCNtwEQASAAYMmep4zQpPQPggEXY2EtcHViLTYyMTk4MTE3NDcwNDkzNzGoAwSqBOIBT9Bv2XuJ7DxYbJjhYbeE4FN6ERf12dm4UHc9TdORfgG_ylTVesviufU4BSlb8AmB4VEF2yo378Y72cbaqTEFbx5Esv3JanPe6AezVNXKaiCHn7YtYRU3ZeKwbF42gBZTKASoPEeu6MjuLoCYfmzJFpBmUN-StHRme4azd_th7TnCEBfVVb7BQvHcbO9NzqPvlQncEs0XICYuGA-pOvJIZmRddLdSKCpX82WR402pF6vKQka9sCTyeI9LLcYiLIb7YuZg3GWSRClbJu0sZ6Tq0XWw4AUOWHn_z_uDBz_UhtqmaZIFDAgSMIGQv6vJ7NDcFKAGGoAHr-nEfZAHBKgHqNIbqAfZyxuoB8_MG6gH6dQbqAe11BuoB6zVG6gHjM0bqAfVzhuoB4HGG6gHmM4bqAerxRuoB97OG6gHv9UbkggLRkxsRFpKVnZ5QUXSCAUIgEEQAbEJGw9XkkAp3LHICRe4E-gBsBQDwBUB&num=1&cid=CAASFeRo1evAB4GwCTGKQQbXdJ1LRoth_Q&sig=AOD64_1L6BpILQ3xPtRl3c5_63Sqm1pqpQ&adurl=https://www.youtube.com/watch%3Fv%3DFLlDZJVvyAE&ctype=21&video_id=FLlDZJVvyAE&client=ca-pub-6219811747049371\n",
      "www.youtube.com/watch?v=ieLIOBkMgAQ\n",
      "www.youtube.com/watch?v=ni4tEtuTccc\n",
      "www.youtube.com/watch?v=oSMOEKEcjqk\n",
      "www.youtube.com/watch?v=DDRNEwFOttw\n",
      "www.youtube.com/watch?v=3j9Q6w_3asA\n",
      "www.youtube.com/watch?v=urRkGvhXc8w\n",
      "www.youtube.com/watch?v=GrFBId1b8U0\n",
      "www.youtube.com/watch?v=6sOXrY5yV4g\n",
      "www.youtube.com/watch?v=58Onuy5USTc\n",
      "www.youtube.com/watch?v=sagmdpkWUqc\n"
     ]
    },
    {
     "name": "stdout",
     "output_type": "stream",
     "text": [
      "www.youtube.com/watch?v=ed0T7VbJXs0\n",
      "www.youtube.comhttps://www.googleadservices.com/pagead/aclk?sa=L&ai=CljVBZcGfXJmcFYeDxAO15YHIBp_yotpV6u2Sr_IIwI23ARABIABgyZ6njNCk9A-CARdjYS1wdWItNjIxOTgxMTc0NzA0OTM3MaABq--2zAOoAwSqBNoBT9BGwbyrTGQOhvEQUGi5USd72S2SgerCpujnaGwsWNMUA8i2xldah4DkQjIbytMgDClVhmI-FRsOWpuh4mA8yMxtex9djDYHskvvcSPHD3CPXwWzjdod4HnLBMQNlWBNltNZsBJEtRqXheZ2yeXQI3mmMEck7wCZ6jEGd3Llhy8W45J588RsqAvqgl7O1ZJwu7ZMAqBdmyz1kOPuQlXi84PrFgJWjbPcUNUxpdKfEVB9oAw79-LhwWuzIgSm_Boh8-3641XPNXxltmXV0p4VCLU-EnelHgKBydqSBQwIEjDAu7f4guL2xXigBhqAB7nL_JMBkAcEqAeo0huoB9nLG6gHz8wbqAfp1BuoB7XUG6gHrNUbqAeMzRuoB9XOG6gHgcYbqAeYzhuoB6vFG6gH3s4bqAe_1RuSCAtlSXZiRUM4TjNjQdIIBQiAQRABsQmX1_jJI8IscsgJF7gT6AGwFAPAFQE&num=1&cid=CAASFeRozQze5AZc2FHq39x75hy6-KEiqA&sig=AOD64_2KEFc7ZU1zAfVQqhHOW16ewH1Fnw&adurl=http://www.youtube.com/watch%3Fv%3DeIvbEC8N3cA&ctype=21&video_id=eIvbEC8N3cA&client=ca-pub-6219811747049371\n",
      "www.youtube.com/watch?v=LSntQerk8cQ\n",
      "www.youtube.com/watch?v=neY2xVmOfUM\n",
      "www.youtube.com/watch?v=y_1iT_GmHTE\n",
      "www.youtube.com/watch?v=rI_lUHOCcbc\n",
      "www.youtube.com/watch?v=Bp1RXmM1-60\n",
      "www.youtube.com/watch?v=ftTX4FoBWlE\n",
      "www.youtube.com/watch?v=2TQ-pOvI6Xo\n",
      "www.youtube.com/watch?v=vGpvO8JabEc\n",
      "www.youtube.com/watch?v=2GfZl4kuVNI\n",
      "www.youtube.com/watch?v=0nycksytL1A\n",
      "www.youtube.comhttps://www.googleadservices.com/pagead/aclk?sa=L&ai=CYZHpfMGfXNXGA4jB_gTHhob4Bp_yotpVpuO5zegIwI23ARABIABgyZ6njNCk9A-CARdjYS1wdWItNjIxOTgxMTc0NzA0OTM3MaABq--2zAOoAwSqBOIBT9AmHMDCUVLoBCpVkzAukAVtn5fwQeb1pv0apm-fn-fXObXOTboDmLD_B6ppMDRnzRgPf0_cRzJCTljfpB3-Trqz1nMf05jtpucnBYWOfiNDZNL4900JhR7ytCOzPOlYyeMyuRVvA3fUUZFSBbbVDGnGjpZEG7PS-dUZlqmUWRdaVM40CsUi4_OCnoHfDuuV_nUz78mTW7RJGJJLkr-N_shISCvP_o-TBGiLogJg--zA9DD-8lXMNWDWnoH-qsaB3uzMM0qB6G1GzNJi1TyG_2TnA9vo-nD02q4KWwY9rmbfM5IFDAgSMMC7t_iC4vbFeKAGGoAHucv8kwGQBwSoB6jSG6gH2csbqAfPzBuoB-nUG6gHtdQbqAes1RuoB4zNG6gH1c4bqAeBxhuoB5jOG6gHq8UbqAfezhuoB7_VG5IIC2VJdmJFQzhOM2NB0ggFCIBBEAGxCZfX-MkjwixyyAkXuBPoAbAUA8AVAQ&num=1&cid=CAASFeRoK-7v3FdFr9jc3ewqRfjTOiZeeA&sig=AOD64_06I22A3VJu3H4CLydY2PofFvK6Sg&adurl=http://www.youtube.com/watch%3Fv%3DeIvbEC8N3cA&ctype=21&video_id=eIvbEC8N3cA&client=ca-pub-6219811747049371\n",
      "www.youtube.com/watch?v=Lc4y-asVh3c\n",
      "www.youtube.com/watch?v=yUp6d79WRVI\n",
      "www.youtube.com/watch?v=r9Q_WESQUVw\n",
      "www.youtube.com/watch?v=dqxvZeQsVzY\n",
      "www.youtube.com/watch?v=E7XGNPXdlGQ\n",
      "www.youtube.com/watch?v=T37QkBc4IGY\n",
      "www.youtube.com/watch?v=_hBUgycpATk\n",
      "www.youtube.com/watch?v=92a7Hj0ijLs\n",
      "www.youtube.com/watch?v=r9yyDEDGlr0\n",
      "www.youtube.com/watch?v=iwROgK94zcM\n",
      "www.youtube.com/watch?v=AbbfDntoRRk\n",
      "www.youtube.com/watch?v=RfOgZXIQ6fo\n",
      "www.youtube.com/watch?v=N3b0PFCrayE\n",
      "www.youtube.com/watch?v=kDlEvaKBkhU\n",
      "www.youtube.com/watch?v=SFMmJMNRv-Q\n",
      "www.youtube.com/watch?v=YWwAOutgWBQ\n",
      "www.youtube.com/watch?v=h6hZkvrFIj0\n",
      "www.youtube.com/watch?v=EJXDMwGWhoA\n",
      "www.youtube.com/watch?v=NtkFei4wRjE\n",
      "www.youtube.com/watch?v=Jit3YhGx5pU\n",
      "www.youtube.com/watch?v=QOLHbQjtSFs\n",
      "www.youtube.com/watch?v=2iVYI99VGaw\n",
      "www.youtube.com/watch?v=yRUAzGQ3nSY\n",
      "www.youtube.com/watch?v=ZvJuJKOmZAY\n",
      "www.youtube.com/watch?v=iszwuX1AK6A\n",
      "www.youtube.com/watch?v=lSA7mAHolAw\n",
      "www.youtube.com/watch?v=E_Ci-pAL4eE\n",
      "www.youtube.com/watch?v=mpJSB4Gbljc\n",
      "www.youtube.com/watch?v=79rtcCnaeyo\n",
      "www.youtube.com/watch?v=gCcx85zbxz4\n",
      "www.youtube.com/watch?v=JWP_hrNHSN4\n",
      "www.youtube.com/watch?v=38A__WT3-o0\n",
      "www.youtube.com/watch?v=FeSLPELpMeM\n",
      "www.youtube.com/watch?v=FBHvSVagufM\n",
      "www.youtube.com/watch?v=cKbbK3YTnxM\n",
      "www.youtube.com/watch?v=8LuxOYIpu-I\n",
      "www.youtube.com/watch?v=VG9AGf66tXM\n",
      "www.youtube.com/watch?v=0X94oZgJis4\n",
      "www.youtube.com/watch?v=0IBCWdlr-fA\n",
      "www.youtube.com/watch?v=h2tY82z3xXU\n",
      "www.youtube.com/watch?v=6HCTIUx1Arc\n",
      "www.youtube.com/watch?v=RMhbr2XQblk\n",
      "www.youtube.comhttps://www.googleadservices.com/pagead/aclk?sa=L&ai=C85Bk1MGfXNDXLOWw7gL2qy-TttfKVYaMuubNCMCNtwEQASAAYMmep4zQpPQPggEXY2EtcHViLTYyMTk4MTE3NDcwNDkzNzGgAavvtswDqAMEqgTeAU_QhYVb-q874dzzMvkMe3RTGq33mKzm6IML46LIU7g1jLMSTxgEoHZWe-Vv33YFA1MZnYXWi2eMy632iMzpTIbuiO8XmZ9KGsKWu4xTmVJ36ioKKg9-uTQmIKHRS7-TsSzkRg1wx_7uf0tRdVJlD7OfPdxyaX1Rzq4JZ_-7KC0coYEgPJ9bNcBZKc6dZX_8qpZOCw17w_ekB_F1qNtWb84tc7FHVT0PX4jmvMrwCmPrr8aV2G7v74MZllSAwBiNVkwzKuRVtWAj7-BzeJdFpadoIYEjPs4Qk0Z6yZxt6JIFDQgSMNLKxZXa4o6Q9QGgBhqAB9SshpIBkAcEqAeo0huoB9nLG6gHz8wbqAfp1BuoB7XUG6gHrNUbqAeMzRuoB9XOG6gHgcYbqAeYzhuoB6vFG6gH3s4bqAe_1RuSCAs5U0E3RmFLeFpWSdIIBQiAQRABsQlkXRgC8j0QqsgJF7gT6AGwFAPAFQE&num=1&cid=CAASFeRo1XAQwkUPue0wH1DZJkMBdu_dDw&sig=AOD64_1iOPm4Ny9BPJ-S2Bo1HghVatWv3Q&adurl=http://www.youtube.com/watch%3Fv%3D9SA7FaKxZVI&ctype=21&video_id=9SA7FaKxZVI&client=ca-pub-6219811747049371\n",
      "www.youtube.com/watch?v=3Gqit3zVmyc\n",
      "www.youtube.com/watch?v=v8yrZSkKxTA\n",
      "www.youtube.com/watch?v=cd-go0oBF4Y\n",
      "www.youtube.com/watch?v=_QmMHu1mhLE\n",
      "www.youtube.com/watch?v=7kSuas6mRpk\n",
      "www.youtube.com/watch?v=ofxtDrRVQY4\n",
      "www.youtube.com/watch?v=5zEKw4VQIeY\n",
      "www.youtube.com/watch?v=t3YJcW2UQiw\n",
      "www.youtube.com/watch?v=MgRjB8PEDkM\n",
      "www.youtube.com/watch?v=RdjO0p4GJPA\n",
      "www.youtube.comhttps://www.googleadservices.com/pagead/aclk?sa=L&ai=CtvII7sGfXLvhJZfupweO8rjgD539stRVtaHC8oMJwI23ARABIABgyZ6njNCk9A-CARdjYS1wdWItNjIxOTgxMTc0NzA0OTM3MagDBKoE6gFP0IPG85YoTD7xzLrMp6r2OdLgvZCMxnlpgWMxz4aJiGiqCNwtH7dw_wVqHLW8cSiRtriGW3Ayn9r1ype6vy0JBOBZ6ZM7BvhICLk672E-t7qo7t53QxaFpyrSPWg7m2AmtnZWGihpfMf_3RoXiydi9Y38hcGBoQJlN1yphvwU7Gh5G03WH8EGOHah1KYE6P6D9awC_XXL68fV80XLX_ve6NHvQ057br8-gp0jIelMKLABZ1n7-8m5o6D7zsQXxcFHeVjn-TFDJu4GevUD2wXLe32R9GuAOEjfrFEiRBnteWI8QLK0rTJlhkiSBQ0IEjDyko38qqWpo-0BoAYagAesn5mLAZAHBKgHqNIbqAfZyxuoB8_MG6gH6dQbqAe11BuoB6zVG6gHjM0bqAfVzhuoB4HGG6gHmM4bqAerxRuoB97OG6gHv9UbkggLN1VhbEtxLURTWEnSCAUIgEEQAbEJh40opuzW_RfICRe4E-gBsBQDwBUB&num=1&cid=CAASFeRo4PCVe_WRGVIkhjL-xGn-0VHRsg&sig=AOD64_39ZhfcnCWzkcXLKnndW5xCt1qACg&adurl=https://www.youtube.com/watch%3Fv%3D7UalKq-DSXI&ctype=21&video_id=7UalKq-DSXI&client=ca-pub-6219811747049371\n",
      "www.youtube.com/watch?v=lc0UehYemQA\n",
      "www.youtube.com/watch?v=2-_-1nJf8Vg\n",
      "www.youtube.com/watch?v=QUnXv6R2HI8\n",
      "www.youtube.com/watch?v=EoijrIie6tQ\n",
      "www.youtube.com/watch?v=IQrXRBh94IA\n",
      "www.youtube.com/watch?v=loTIzXAS7v4\n",
      "www.youtube.com/watch?v=TxQa9tnsoKc\n",
      "www.youtube.com/watch?v=04ZYTB2ZXVc\n",
      "www.youtube.com/watch?v=1Fg5iWmQjwk\n",
      "www.youtube.com/watch?v=g7ArZ7VD-QQ\n",
      "www.youtube.com/watch?v=lnY_j85MidU\n",
      "www.youtube.com/watch?v=Kd509cLN-9U\n",
      "www.youtube.com/watch?v=hGsyEkfjhQk\n",
      "www.youtube.com/watch?v=TKPmGjVFbrY\n",
      "www.youtube.com/watch?v=1cSGvqQHpjs\n",
      "www.youtube.com/watch?v=dTnyhLywdJc\n",
      "www.youtube.com/watch?v=M9Uy0opVF3s\n",
      "www.youtube.com/watch?v=3BmeR9GYdDU\n",
      "www.youtube.com/watch?v=A9kCb0E4O3g\n",
      "www.youtube.com/watch?v=z02Ie8wKKRg\n",
      "www.youtube.com/watch?v=qZzfxL90100\n",
      "www.youtube.com/watch?v=5_RsHRmIRBY\n",
      "www.youtube.com/watch?v=9v6X-Dytlko\n",
      "www.youtube.com/watch?v=t1d5FSyMEd8\n",
      "www.youtube.com/watch?v=vPuO14OgTEc\n",
      "www.youtube.com/watch?v=hEJnMQG9ev8\n",
      "www.youtube.com/watch?v=bpXfcTF6iVk\n",
      "www.youtube.com/watch?v=lzNbGH1oZJc\n",
      "www.youtube.com/watch?v=i89oN8v7RdY\n",
      "www.youtube.com/watch?v=IQAchMdy__8\n",
      "www.youtube.com/watch?v=TIl2o1hm1F4\n",
      "www.youtube.com/watch?v=EwdCIpbTN5g\n",
      "www.youtube.com/watch?v=Div0iP65aZo\n",
      "www.youtube.com/watch?v=A5HTBYR7m0o\n",
      "www.youtube.com/watch?v=xas1UyTiVUw\n",
      "www.youtube.com/watch?v=O3CIXEAjcc8\n",
      "www.youtube.com/watch?v=6zhLBe319KE\n",
      "www.youtube.com/watch?v=mObK5XD8udk\n",
      "www.youtube.com/watch?v=QHhnhqxB4E8\n",
      "www.youtube.com/watch?v=YdJW2UxvSFQ\n",
      "www.youtube.com/watch?v=7RYpJAUMo2M\n",
      "www.youtube.com/watch?v=9lzSoKOs1fc\n",
      "www.youtube.com/watch?v=8IBNZ6O2kMk\n",
      "www.youtube.com/watch?v=jdqlGY6K1DI\n",
      "www.youtube.com/watch?v=4lj185DaZ_o\n",
      "www.youtube.com/watch?v=3a9YU1SVbSE\n",
      "www.youtube.com/watch?v=k64P4l2Wmeg\n",
      "www.youtube.com/watch?v=4pENM42-QB8\n",
      "www.youtube.com/watch?v=bzLn8sYeM9o\n",
      "www.youtube.com/watch?v=BzbGtjtfZwA\n",
      "www.youtube.com/watch?v=NWrXQ8LsKYg\n",
      "www.youtube.com/watch?v=whldChqCsYk\n",
      "www.youtube.com/watch?v=dWVDZ98AFhI\n",
      "www.youtube.com/watch?v=GncQtURdcE4\n",
      "www.youtube.com/watch?v=H_3T4DGw10U\n",
      "www.youtube.com/watch?v=aT9eWGjLv6s\n",
      "www.youtube.com/watch?v=U1fu_sA7XhE\n",
      "www.youtube.com/watch?v=HHSw7jxYCOk\n",
      "www.youtube.com/watch?v=oI3UuneLcyU\n",
      "www.youtube.com/watch?v=9e590FeeGCM\n",
      "www.youtube.com/watch?v=McM0_YHDm5A\n",
      "www.youtube.comhttps://www.googleadservices.com/pagead/aclk?sa=L&ai=Ctzbde8KfXKfCKMnj_gSO5J-IA5_yotpVpuO5zegIwI23ARABIABgyZ6njNCk9A-CARdjYS1wdWItNjIxOTgxMTc0NzA0OTM3MaABq--2zAOoAwSqBO8BT9BXU1FQeeskHfVgl1010zEShTFoODcJkrUrMK2n338sMN2zmDROhczXLHh-1HPm8jKnVzGyhOpNljLxW_z9ubol2qVicyXhoJxpYgqajzd65qarE6aG4ffQd170Vi6VictFBsIDGMD1J0WJ7WOVUvDAmjN7JOKHPJTaFQwgfE2Ak237JDWgP-sn6gYlargBmCsCTgG6tu5VgJ1DrvGMa5fVG1hwv-FJomkQrz1k2LmMJkVMe5MWlq3EJ6iymUMjPenKdqj-zRyQZ1JuYcNFWea3YfWjHHAPNJdhU5O5_WgLog4wOkdcOisCkUUrNHOSBQwIEjDAu7f4guL2xXigBhqAB7nL_JMBkAcEqAeo0huoB9nLG6gHz8wbqAfp1BuoB7XUG6gHrNUbqAeMzRuoB9XOG6gHgcYbqAeYzhuoB6vFG6gH3s4bqAe_1RuSCAtlSXZiRUM4TjNjQdIIBQiAQRABsQmX1_jJI8IscsgJF7gT6AGwFAPAFQE&num=1&cid=CAASFeRoPvwzsNxjSYcY9OqJUKbE83A_Tw&sig=AOD64_3jk5nms2_6JO6QYlz5gW3PEqwtbg&adurl=http://www.youtube.com/watch%3Fv%3DeIvbEC8N3cA&ctype=21&video_id=eIvbEC8N3cA&client=ca-pub-6219811747049371\n"
     ]
    },
    {
     "name": "stdout",
     "output_type": "stream",
     "text": [
      "www.youtube.com/watch?v=ZsWKL5PLnjI\n",
      "www.youtube.com/watch?v=naQr0uTrH_s\n",
      "www.youtube.com/watch?v=e3Nl_TCQXuw\n",
      "www.youtube.com/watch?v=B7ZIugIa8KI\n",
      "www.youtube.com/watch?v=RPLpbDFQZpg\n",
      "www.youtube.com/watch?v=YDGw1MTEe9k\n",
      "www.youtube.com/watch?v=SOXWc32k4zA\n",
      "www.youtube.com/watch?v=610WL64hskI\n",
      "www.youtube.com/watch?v=Ne6KMHLTvik\n"
     ]
    }
   ],
   "source": [
    "import csv\n",
    "headers = {'User-Agent':'Mozilla/5.0 (Linux; Android 6.0; Nexus 5 Build/MRA58N) AppleWebKit/537.36 (KHTML, like Gecko) Chrome/56.0.2924.87 Mobile Safari/537.36'}\n",
    "infile = open('imdb_top_100_1.csv','r')\n",
    "\n",
    "reader = csv.reader(infile)\n",
    "for row in reader:\n",
    "    split_name = row[2].split(' ')\n",
    "    search_name = split_name[0]\n",
    "    for item in split_name[1:]:\n",
    "        search_name += '+'\n",
    "        search_name += item\n",
    "    search_name = search_name + \"+official+trailer\"\n",
    "    search_result = \"https://www.youtube.com/results?search_query=\" + str(search_name)\n",
    "\n",
    "    response = requests.get(search_result)\n",
    "    bsObj = BeautifulSoup(response.content, 'html.parser')\n",
    "    soup = bsObj.find_all('a')\n",
    "    for tag in soup:\n",
    "        t1 = tag.get('href')\n",
    "        match_obj = re.match(r'(.*)watch(.*)',t1,re.M|re.I)\n",
    "        if match_obj:\n",
    "            print('www.youtube.com'+match_obj.group())\n",
    "            break"
   ]
  },
  {
   "cell_type": "code",
   "execution_count": 137,
   "metadata": {
    "ExecuteTime": {
     "end_time": "2019-03-30T19:41:22.242187Z",
     "start_time": "2019-03-30T19:41:21.293308Z"
    }
   },
   "outputs": [
    {
     "name": "stdout",
     "output_type": "stream",
     "text": [
      "b'<!DOCTYPE html PUBLIC \"-//W3C//DTD HTML 4.01 Transitional//EN\">\\n<html>\\n<head><meta http-equiv=\"content-type\" content=\"text/html; charset=utf-8\"><meta name=\"viewport\" content=\"initial-scale=1\"><title>https://www.youtube.com/results?search_query=forrest+gump+official+trailer</title></head>\\n<body style=\"font-family: arial, sans-serif; background-color: #fff; color: #000; padding:20px; font-size:18px;\" onload=\"e=document.getElementById(\\'captcha\\');if(e){e.focus();}\">\\n<div style=\"max-width:400px;\">\\n<hr noshade size=\"1\" style=\"color:#ccc; background-color:#ccc;\"><br>\\n<form id=\"captcha-form\" action=\"index\" method=\"post\">\\n<script src=\"https://www.google.com/recaptcha/api.js\" async defer></script>\\n<script>var submitCallback = function(response) {document.getElementById(\\'captcha-form\\').submit();};</script>\\n<div id=\"recaptcha\" class=\"g-recaptcha\" data-sitekey=\"6LfwuyUTAAAAAOAmoS0fdqijC2PbbdH4kjq62Y1b\" data-callback=\"submitCallback\" data-s=\"0p68uAoBCeRFsSCvbMSYCL4cL4F2ZwmphSTCSyfLcmKVnP9qpx4fOialK3vb1pG86Zy_KuHQTWrBRI7pEHDqWsGo5qskCN9tq1wtufgwOASNTYMHvoyyw2DHH5VizPM1Kl-p7o6O-RC0sv0z9PbJMsDP8ylQqo5ANo-fWSirMk0XxX6ivvuMB84v7VuZb-xdOFI_2_Y_rG82UgAmuqx9pZpMm_ZeBjWSfvoM87B2T3VpuEjXM2827So\"></div>\\n<input type=\\'hidden\\' name=\\'q\\' value=\\'EgSA7bhNGOGM_-QFIhkA8aeDSwke-OAFlPV5YKtOm9-uIcSwZLVWMgFy\\'><input type=\"hidden\" name=\"continue\" value=\"https://www.youtube.com/results?search_query=forrest+gump+official+trailer\">\\n</form>\\n<hr noshade size=\"1\" style=\"color:#ccc; background-color:#ccc;\">\\n\\n<div style=\"font-size:13px;\">\\n<b>About this page</b><br><br>Our systems have detected unusual traffic from your computer network.  This page checks to see if it&#39;s really you sending the requests, and not a robot.  <a href=\"#\" onclick=\"document.getElementById(\\'infoDiv\\').style.display=\\'block\\';\">Why did this happen?</a><br><br>\\n<div id=\"infoDiv\" style=\"display:none; background-color:#eee; padding:10px; margin:0 0 15px 0; line-height:1.4em;\">\\nThis page appears when Google automatically detects requests coming from your computer network which appear to be in violation of the <a href=\"//www.google.com/policies/terms/\">Terms of Service</a>. The block will expire shortly after those requests stop.  In the meantime, solving the above CAPTCHA will let you continue to use our services.<br><br>This traffic may have been sent by malicious software, a browser plug-in, or a script that sends automated requests.  If you share your network connection, ask your administrator for help &mdash; a different computer using the same IP address may be responsible.  <a href=\"//support.google.com/websearch/answer/86640\">Learn more</a><br><br>Sometimes you may be asked to solve the CAPTCHA if you are using advanced terms that robots are known to use, or sending requests very quickly.\\n</div>\\n\\nIP address: 128.237.184.77<br>Time: 2019-03-30T19:41:22Z<br>URL: https://www.youtube.com/results?search_query=forrest+gump+official+trailer<br>\\n</div>\\n</div>\\n</body>\\n</html>\\n'\n",
      "#\n",
      "//www.google.com/policies/terms/\n",
      "//support.google.com/websearch/answer/86640\n"
     ]
    }
   ],
   "source": [
    "headers = {'User-Agent':'Mozilla/5.0 (Linux; Android 6.0; Nexus 5 Build/MRA58N) AppleWebKit/537.36 (KHTML, like Gecko) Chrome/56.0.2924.87 Mobile Safari/537.36'}\n",
    "test_name = \"https://www.youtube.com/results?search_query=forrest+gump+official+trailer\"\n",
    "\n",
    "response = requests.get(test_name)\n",
    "print(response.content)\n",
    "bsObj = BeautifulSoup(response.content, 'html.parser')\n",
    "soup = bsObj.find_all('a')\n",
    "for tag in soup:\n",
    "    t1 = tag.get('href')\n",
    "    print(t1)\n",
    "#     match_obj = re.match(r'(.*)watch(.*)',t1,re.M|re.I)\n",
    "#     if match_obj:\n",
    "#         print('www.youtube.com'+match_obj.group())\n",
    "#         break"
   ]
  }
 ],
 "metadata": {
  "kernelspec": {
   "display_name": "Python 3",
   "language": "python",
   "name": "python3"
  },
  "language_info": {
   "codemirror_mode": {
    "name": "ipython",
    "version": 3
   },
   "file_extension": ".py",
   "mimetype": "text/x-python",
   "name": "python",
   "nbconvert_exporter": "python",
   "pygments_lexer": "ipython3",
   "version": "3.7.0"
  },
  "toc": {
   "base_numbering": 1,
   "nav_menu": {},
   "number_sections": true,
   "sideBar": true,
   "skip_h1_title": false,
   "title_cell": "Table of Contents",
   "title_sidebar": "Contents",
   "toc_cell": false,
   "toc_position": {},
   "toc_section_display": true,
   "toc_window_display": false
  }
 },
 "nbformat": 4,
 "nbformat_minor": 2
}
