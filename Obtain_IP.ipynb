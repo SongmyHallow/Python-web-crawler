{
 "cells": [
  {
   "cell_type": "code",
   "execution_count": 58,
   "metadata": {
    "ExecuteTime": {
     "end_time": "2019-03-31T20:29:45.292379Z",
     "start_time": "2019-03-31T20:29:44.510617Z"
    }
   },
   "outputs": [
    {
     "name": "stdout",
     "output_type": "stream",
     "text": [
      "['84.210.238.216', '128.140.225.49', '91.187.93.166', '211.24.102.170', '95.67.100.105', '46.219.111.73', '78.158.188.108', '95.80.252.189', '91.144.147.248', '93.170.4.145', '112.217.199.122', '83.13.205.178', '117.198.97.220', '118.174.65.119', '203.124.47.98']\n",
      "connection failed\n",
      "('Connection aborted.', ConnectionResetError(10054, 'An existing connection was forcibly closed by the remote host', None, 10054, None))\n",
      "('Connection aborted.', ConnectionResetError(10054, 'An existing connection was forcibly closed by the remote host', None, 10054, None))\n",
      "('Connection aborted.', ConnectionResetError(10054, 'An existing connection was forcibly closed by the remote host', None, 10054, None))\n",
      "('Connection aborted.', ConnectionResetError(10054, 'An existing connection was forcibly closed by the remote host', None, 10054, None))\n",
      "('Connection aborted.', ConnectionResetError(10054, 'An existing connection was forcibly closed by the remote host', None, 10054, None))\n",
      "('Connection aborted.', ConnectionResetError(10054, 'An existing connection was forcibly closed by the remote host', None, 10054, None))\n",
      "('Connection aborted.', ConnectionResetError(10054, 'An existing connection was forcibly closed by the remote host', None, 10054, None))\n",
      "('Connection aborted.', ConnectionResetError(10054, 'An existing connection was forcibly closed by the remote host', None, 10054, None))\n",
      "('Connection aborted.', ConnectionResetError(10054, 'An existing connection was forcibly closed by the remote host', None, 10054, None))\n"
     ]
    }
   ],
   "source": [
    "from bs4 import BeautifulSoup\n",
    "import requests\n",
    "import random\n",
    "import re\n",
    "import telnetlib\n",
    "\n",
    "def get_ip_list(url, headers):\n",
    "    web_data = requests.get(url, headers=headers)\n",
    "    soup = BeautifulSoup(web_data.text, 'lxml')\n",
    "    ips = soup.find_all(attrs={'class':'l2'})\n",
    "    ips_pool = []\n",
    "    for ip in ips:\n",
    "        tag = ip.find('li')\n",
    "        ips_pool.append(tag.get_text())\n",
    "#     ip_list = []\n",
    "#     for i in range(1, len(ips)):\n",
    "#         ip_info = ips[i]\n",
    "#         tds = ip_info.find_all('td')\n",
    "#         ip_list.append(tds[1].text + ':' + tds[2].text)\n",
    "    print(ips_pool)\n",
    "    return ips_pool\n",
    "\n",
    "def get_random_ip(ip_list):\n",
    "    proxy_list = []\n",
    "    for ip in ip_list:\n",
    "        proxy_list.append('http://' + ip)\n",
    "    proxy_ip = random.choice(proxy_list)\n",
    "    proxies = {'http': proxy_ip}\n",
    "    return proxies\n",
    "\n",
    "def validate_ip(proxies):\n",
    "    try:\n",
    "        web_data = requests.get('www.youtube.com', headers=headers, proxies=proxies)\n",
    "        print(web_data)\n",
    "    except:\n",
    "        print('connection failed')\n",
    "\n",
    "\n",
    "url = 'http://www.data5u.com/free/gwgn/index.shtml'\n",
    "headers = {\n",
    "    'User-Agent': 'Mozilla/5.0 (Windows NT 6.1; Win64; x64) AppleWebKit/537.36 (KHTML, like Gecko) Chrome/53.0.2785.143 Safari/537.36'\n",
    "}\n",
    "ip_list = get_ip_list(url, headers=headers)\n",
    "proxies = get_random_ip(ip_list)\n",
    "validate_ip(proxies)\n"
   ]
  },
  {
   "cell_type": "code",
   "execution_count": 69,
   "metadata": {
    "ExecuteTime": {
     "end_time": "2019-03-31T21:19:37.209998Z",
     "start_time": "2019-03-31T21:19:37.206997Z"
    }
   },
   "outputs": [
    {
     "name": "stdout",
     "output_type": "stream",
     "text": [
      "www.youtube.com/embed/qtRKdVHc-cE\n",
      "('Connection aborted.', ConnectionResetError(10054, 'An existing connection was forcibly closed by the remote host', None, 10054, None))\n"
     ]
    }
   ],
   "source": [
    "addr = 'www.youtube.com/watch?v=qtRKdVHc-cE'\n",
    "first_part = re.sub(r'watch\\?v\\=','embed/',addr)\n",
    "print(first_part)"
   ]
  }
 ],
 "metadata": {
  "kernelspec": {
   "display_name": "Python 3",
   "language": "python",
   "name": "python3"
  },
  "language_info": {
   "codemirror_mode": {
    "name": "ipython",
    "version": 3
   },
   "file_extension": ".py",
   "mimetype": "text/x-python",
   "name": "python",
   "nbconvert_exporter": "python",
   "pygments_lexer": "ipython3",
   "version": "3.7.0"
  },
  "toc": {
   "base_numbering": 1,
   "nav_menu": {},
   "number_sections": true,
   "sideBar": true,
   "skip_h1_title": false,
   "title_cell": "Table of Contents",
   "title_sidebar": "Contents",
   "toc_cell": false,
   "toc_position": {},
   "toc_section_display": true,
   "toc_window_display": false
  }
 },
 "nbformat": 4,
 "nbformat_minor": 2
}
